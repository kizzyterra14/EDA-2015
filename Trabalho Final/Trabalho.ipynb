{
 "metadata": {
  "name": "",
  "signature": "sha256:112ac57e6967ad08eeabc73383c20ae814081e900bffe30241964ff5e0e75a96"
 },
 "nbformat": 3,
 "nbformat_minor": 0,
 "worksheets": [
  {
   "cells": [
    {
     "cell_type": "heading",
     "level": 5,
     "metadata": {},
     "source": [
      "Primeira quest\u00e3o"
     ]
    },
    {
     "cell_type": "code",
     "collapsed": false,
     "input": [
      "import random"
     ],
     "language": "python",
     "metadata": {},
     "outputs": [],
     "prompt_number": 389
    },
    {
     "cell_type": "code",
     "collapsed": false,
     "input": [
      "import atexit\n",
      "from time import clock\n",
      "\n",
      "def secondsToStr(t):\n",
      "    return \"%d:%02d:%02d.%03d\" % \\\n",
      "        reduce(lambda ll,b : divmod(ll[0],b) + ll[1:],\n",
      "            [(t*1000,),1000,60,60])\n",
      "\n",
      "line = \"=\"*40\n",
      "def log(s, elapsed=None):\n",
      "    print line\n",
      "    print clock(), '-', s\n",
      "    if elapsed:\n",
      "        print \"Elapsed time:\", elapsed\n",
      "    print line\n",
      "    print\n",
      "\n",
      "def endlog():\n",
      "    end = clock()\n",
      "    elapsed = end-start\n",
      "    log(\"End Program\", elapsed)\n",
      "\n",
      "def now():\n",
      "    return clock()\n"
     ],
     "language": "python",
     "metadata": {},
     "outputs": [],
     "prompt_number": 390
    },
    {
     "cell_type": "code",
     "collapsed": false,
     "input": [
      "def cubic(L):\n",
      "    sizeL = len(L)\n",
      "    if sizeL == 0:\n",
      "        return L\n",
      "    max_sum = L[0]\n",
      "    max_subsequence = L[:1]\n",
      "    for j in range(1, sizeL):\n",
      "        for i in range(j): \n",
      "            current_sum = 0\n",
      "            for k in range(i,j):\n",
      "                current_sum += L[k]\n",
      "            if current_sum > max_sum:\n",
      "                max_sum = current_sum\n",
      "                max_subsequence = L[i:j]\n",
      "    return max_subsequence"
     ],
     "language": "python",
     "metadata": {},
     "outputs": [],
     "prompt_number": 391
    },
    {
     "cell_type": "code",
     "collapsed": false,
     "input": [
      "start = clock()\n",
      "log(\"Start Program\")"
     ],
     "language": "python",
     "metadata": {},
     "outputs": [
      {
       "output_type": "stream",
       "stream": "stdout",
       "text": [
        "========================================\n",
        "128.838289 - Start Program\n",
        "========================================\n",
        "\n"
       ]
      }
     ],
     "prompt_number": 392
    },
    {
     "cell_type": "code",
     "collapsed": false,
     "input": [
      "cubic([random.randrange(-100000, 100000, 1) for i in xrange(10)])"
     ],
     "language": "python",
     "metadata": {},
     "outputs": [
      {
       "metadata": {},
       "output_type": "pyout",
       "prompt_number": 393,
       "text": [
        "[56201, 5339]"
       ]
      }
     ],
     "prompt_number": 393
    },
    {
     "cell_type": "code",
     "collapsed": false,
     "input": [
      "endlog()"
     ],
     "language": "python",
     "metadata": {},
     "outputs": [
      {
       "output_type": "stream",
       "stream": "stdout",
       "text": [
        "========================================\n",
        "128.851795 - End Program\n",
        "Elapsed time: 0.013599\n",
        "========================================\n",
        "\n"
       ]
      }
     ],
     "prompt_number": 394
    },
    {
     "cell_type": "code",
     "collapsed": false,
     "input": [
      "def quadratic(L):\n",
      "    sizeL = len(L)\n",
      "    if sizeL == 0:\n",
      "        return L\n",
      "    max_sum = L[0]\n",
      "    max_subsequence = L[:1]\n",
      "    for j in range(sizeL):\n",
      "        current_sum = 0\n",
      "        for i in range(j, sizeL):\n",
      "            current_sum += L[i]\n",
      "            if current_sum > max_sum:\n",
      "                max_sum = current_sum\n",
      "                max_subsequence = L[j:i+1]\n",
      "    return max_subsequence"
     ],
     "language": "python",
     "metadata": {},
     "outputs": [],
     "prompt_number": 395
    },
    {
     "cell_type": "code",
     "collapsed": false,
     "input": [
      "start = clock()\n",
      "log(\"Start Program\")"
     ],
     "language": "python",
     "metadata": {},
     "outputs": [
      {
       "output_type": "stream",
       "stream": "stdout",
       "text": [
        "========================================\n",
        "128.869721 - Start Program\n",
        "========================================\n",
        "\n"
       ]
      }
     ],
     "prompt_number": 396
    },
    {
     "cell_type": "code",
     "collapsed": false,
     "input": [
      "quadratic([random.randrange(-100000, 100000, 1) for i in xrange(100)])"
     ],
     "language": "python",
     "metadata": {},
     "outputs": [
      {
       "metadata": {},
       "output_type": "pyout",
       "prompt_number": 397,
       "text": [
        "[9837,\n",
        " 95632,\n",
        " -51703,\n",
        " 90584,\n",
        " 29497,\n",
        " -32116,\n",
        " -64227,\n",
        " -61034,\n",
        " 29392,\n",
        " 38461,\n",
        " 30083,\n",
        " -95620,\n",
        " 61331,\n",
        " 61746,\n",
        " 67224,\n",
        " 30389,\n",
        " -82373,\n",
        " 79531,\n",
        " 59304,\n",
        " 92287,\n",
        " -53864,\n",
        " 58265,\n",
        " 88683,\n",
        " -32995,\n",
        " -19687,\n",
        " 58935,\n",
        " 54934,\n",
        " -86652,\n",
        " 66119,\n",
        " 12035,\n",
        " -50230,\n",
        " -79721,\n",
        " 55586,\n",
        " -17383,\n",
        " -39265,\n",
        " 36905,\n",
        " -79160,\n",
        " -42586,\n",
        " 17505,\n",
        " 69411,\n",
        " -14681,\n",
        " 57248,\n",
        " 38834,\n",
        " 77095,\n",
        " 85217,\n",
        " 63268,\n",
        " 55559]"
       ]
      }
     ],
     "prompt_number": 397
    },
    {
     "cell_type": "code",
     "collapsed": false,
     "input": [
      "endlog()"
     ],
     "language": "python",
     "metadata": {},
     "outputs": [
      {
       "output_type": "stream",
       "stream": "stdout",
       "text": [
        "========================================\n",
        "128.888231 - End Program\n",
        "Elapsed time: 0.018577\n",
        "========================================\n",
        "\n"
       ]
      }
     ],
     "prompt_number": 398
    },
    {
     "cell_type": "code",
     "collapsed": false,
     "input": [
      "def linear(L):\n",
      "    startSoFar = 0\n",
      "    start_previous = 0\n",
      "    maxSoFar_index = 0\n",
      "    maxSoFar = L[0]\n",
      "    max_previous = L[0]\n",
      "    for i in range(1,len(L)):\n",
      "        if max_previous + L[i] >= L[i]:\n",
      "            max_previous = max_previous + L[i]\n",
      "        else:\n",
      "            start_previous = i\n",
      "            max_previous = L[i]\n",
      "        if max_previous >= maxSoFar:\n",
      "            maxSoFar = max_previous\n",
      "            maxSoFar_index = i\n",
      "            startSoFar = start_previous\n",
      "    return L[startSoFar:maxSoFar_index + 1]\n"
     ],
     "language": "python",
     "metadata": {},
     "outputs": [],
     "prompt_number": 399
    },
    {
     "cell_type": "code",
     "collapsed": false,
     "input": [
      "start = clock()\n",
      "log(\"Start Program\")"
     ],
     "language": "python",
     "metadata": {},
     "outputs": [
      {
       "output_type": "stream",
       "stream": "stdout",
       "text": [
        "========================================\n",
        "128.911887 - Start Program\n",
        "========================================\n",
        "\n"
       ]
      }
     ],
     "prompt_number": 400
    },
    {
     "cell_type": "code",
     "collapsed": false,
     "input": [
      "linear([random.randrange(-100000, 100000, 1) for i in xrange(100)])"
     ],
     "language": "python",
     "metadata": {},
     "outputs": [
      {
       "metadata": {},
       "output_type": "pyout",
       "prompt_number": 401,
       "text": [
        "[71855,\n",
        " 24656,\n",
        " -70801,\n",
        " 75108,\n",
        " -48532,\n",
        " -6792,\n",
        " 90169,\n",
        " 3973,\n",
        " -68763,\n",
        " 62208,\n",
        " 85114,\n",
        " -9238,\n",
        " 64749,\n",
        " -94995,\n",
        " 39815,\n",
        " 89195,\n",
        " 94432,\n",
        " -73897,\n",
        " -93666,\n",
        " 32421,\n",
        " -17556,\n",
        " 62089,\n",
        " 78747,\n",
        " 17988,\n",
        " -53177,\n",
        " 24858,\n",
        " 32152,\n",
        " -67803,\n",
        " 81833,\n",
        " -57286,\n",
        " 21882,\n",
        " 52703,\n",
        " -91488,\n",
        " 18278,\n",
        " 23531,\n",
        " 28550,\n",
        " -19967,\n",
        " -82784,\n",
        " 11059,\n",
        " -79315,\n",
        " -44336,\n",
        " 19831,\n",
        " -89020,\n",
        " 67480,\n",
        " 83756,\n",
        " 97826,\n",
        " -21912,\n",
        " 82590,\n",
        " -93545,\n",
        " 20886,\n",
        " -8932,\n",
        " 6345,\n",
        " -58094,\n",
        " 73017,\n",
        " 86820,\n",
        " -49679,\n",
        " 97316,\n",
        " 70529,\n",
        " 50409,\n",
        " 26951,\n",
        " 84812,\n",
        " 33876,\n",
        " 73612]"
       ]
      }
     ],
     "prompt_number": 401
    },
    {
     "cell_type": "code",
     "collapsed": false,
     "input": [
      "endlog()"
     ],
     "language": "python",
     "metadata": {},
     "outputs": [
      {
       "output_type": "stream",
       "stream": "stdout",
       "text": [
        "========================================\n",
        "128.930342 - End Program\n",
        "Elapsed time: 0.018535\n",
        "========================================\n",
        "\n"
       ]
      }
     ],
     "prompt_number": 402
    },
    {
     "cell_type": "code",
     "collapsed": false,
     "input": [],
     "language": "python",
     "metadata": {},
     "outputs": [],
     "prompt_number": 402
    }
   ],
   "metadata": {}
  }
 ]
}