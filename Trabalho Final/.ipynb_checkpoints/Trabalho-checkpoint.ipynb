{
 "metadata": {
  "name": "",
  "signature": "sha256:0c77a1739c5002370a8976580c581b183566e7cd1cc176cff4c7edcedb14429f"
 },
 "nbformat": 3,
 "nbformat_minor": 0,
 "worksheets": [
  {
   "cells": [
    {
     "cell_type": "heading",
     "level": 5,
     "metadata": {},
     "source": [
      "Primeira quest\u00e3o"
     ]
    },
    {
     "cell_type": "code",
     "collapsed": false,
     "input": [
      "import random"
     ],
     "language": "python",
     "metadata": {},
     "outputs": [],
     "prompt_number": 375
    },
    {
     "cell_type": "code",
     "collapsed": false,
     "input": [
      "import atexit\n",
      "from time import clock\n",
      "\n",
      "def secondsToStr(t):\n",
      "    return \"%d:%02d:%02d.%03d\" % \\\n",
      "        reduce(lambda ll,b : divmod(ll[0],b) + ll[1:],\n",
      "            [(t*1000,),1000,60,60])\n",
      "\n",
      "line = \"=\"*40\n",
      "def log(s, elapsed=None):\n",
      "    print line\n",
      "    print clock(), '-', s\n",
      "    if elapsed:\n",
      "        print \"Elapsed time:\", elapsed\n",
      "    print line\n",
      "    print\n",
      "\n",
      "def endlog():\n",
      "    end = clock()\n",
      "    elapsed = end-start\n",
      "    log(\"End Program\", elapsed)\n",
      "\n",
      "def now():\n",
      "    return clock()\n"
     ],
     "language": "python",
     "metadata": {},
     "outputs": [],
     "prompt_number": 376
    },
    {
     "cell_type": "code",
     "collapsed": false,
     "input": [
      "def cubic(L):\n",
      "    sizeL = len(L)\n",
      "    if sizeL == 0:\n",
      "        return L\n",
      "    max_sum = L[0]\n",
      "    max_subsequence = L[:1]\n",
      "    for j in range(1, sizeL):\n",
      "        for i in range(j): \n",
      "            current_sum = 0\n",
      "            for k in range(i,j):\n",
      "                current_sum += L[k]\n",
      "            if current_sum > max_sum:\n",
      "                max_sum = current_sum\n",
      "                max_subsequence = L[i:j]\n",
      "    return max_subsequence"
     ],
     "language": "python",
     "metadata": {},
     "outputs": [],
     "prompt_number": 377
    },
    {
     "cell_type": "code",
     "collapsed": false,
     "input": [
      "start = clock()\n",
      "log(\"Start Program\")"
     ],
     "language": "python",
     "metadata": {},
     "outputs": [
      {
       "output_type": "stream",
       "stream": "stdout",
       "text": [
        "========================================\n",
        "128.695659 - Start Program\n",
        "========================================\n",
        "\n"
       ]
      }
     ],
     "prompt_number": 378
    },
    {
     "cell_type": "code",
     "collapsed": false,
     "input": [
      "cubic([random.randrange(-100000, 100000, 1) for i in xrange(10)])"
     ],
     "language": "python",
     "metadata": {},
     "outputs": [
      {
       "metadata": {},
       "output_type": "pyout",
       "prompt_number": 379,
       "text": [
        "[]"
       ]
      }
     ],
     "prompt_number": 379
    },
    {
     "cell_type": "code",
     "collapsed": false,
     "input": [
      "endlog()"
     ],
     "language": "python",
     "metadata": {},
     "outputs": [
      {
       "output_type": "stream",
       "stream": "stdout",
       "text": [
        "========================================\n",
        "128.709987 - End Program\n",
        "Elapsed time: 0.014437\n",
        "========================================\n",
        "\n"
       ]
      }
     ],
     "prompt_number": 380
    },
    {
     "cell_type": "code",
     "collapsed": false,
     "input": [
      "def quadratic(L):\n",
      "    sizeL = len(L)\n",
      "    if sizeL == 0:\n",
      "        return L\n",
      "    max_sum = L[0]\n",
      "    max_subsequence = L[:1]\n",
      "    for j in range(sizeL):\n",
      "        current_sum = 0\n",
      "        for i in range(j, sizeL):\n",
      "            current_sum += L[i]\n",
      "            if current_sum > max_sum:\n",
      "                max_sum = current_sum\n",
      "                max_subsequence = L[j:i+1]\n",
      "    return max_subsequence"
     ],
     "language": "python",
     "metadata": {},
     "outputs": [],
     "prompt_number": 381
    },
    {
     "cell_type": "code",
     "collapsed": false,
     "input": [
      "start = clock()\n",
      "log(\"Start Program\")"
     ],
     "language": "python",
     "metadata": {},
     "outputs": [
      {
       "output_type": "stream",
       "stream": "stdout",
       "text": [
        "========================================\n",
        "128.729456 - Start Program\n",
        "========================================\n",
        "\n"
       ]
      }
     ],
     "prompt_number": 382
    },
    {
     "cell_type": "code",
     "collapsed": false,
     "input": [
      "quadratic([random.randrange(-100000, 100000, 1) for i in xrange(100)])"
     ],
     "language": "python",
     "metadata": {},
     "outputs": [
      {
       "metadata": {},
       "output_type": "pyout",
       "prompt_number": 383,
       "text": [
        "[1640,\n",
        " 18902,\n",
        " 61971,\n",
        " 71726,\n",
        " 92050,\n",
        " 82450,\n",
        " 18878,\n",
        " 86314,\n",
        " 83888,\n",
        " 87280,\n",
        " -89553,\n",
        " 61207,\n",
        " 70301,\n",
        " -33340,\n",
        " -43996,\n",
        " 65780,\n",
        " 40934,\n",
        " -3543,\n",
        " -63083,\n",
        " -6306,\n",
        " -21991,\n",
        " 75275,\n",
        " 49988]"
       ]
      }
     ],
     "prompt_number": 383
    },
    {
     "cell_type": "code",
     "collapsed": false,
     "input": [
      "endlog()"
     ],
     "language": "python",
     "metadata": {},
     "outputs": [
      {
       "output_type": "stream",
       "stream": "stdout",
       "text": [
        "========================================\n",
        "128.747167 - End Program\n",
        "Elapsed time: 0.017822\n",
        "========================================\n",
        "\n"
       ]
      }
     ],
     "prompt_number": 384
    },
    {
     "cell_type": "code",
     "collapsed": false,
     "input": [
      "def linear(L):\n",
      "    startSoFar = 0\n",
      "    start_previous = 0\n",
      "    maxSoFar_index = 0\n",
      "    maxSoFar = L[0]\n",
      "    max_previous = L[0]\n",
      "    for i in range(1,len(L)):\n",
      "        if max_previous + L[i] >= L[i]:\n",
      "            max_previous = max_previous + L[i]\n",
      "        else:\n",
      "            start_previous = i\n",
      "            max_previous = L[i]\n",
      "        if max_previous >= maxSoFar:\n",
      "            maxSoFar = max_previous\n",
      "            maxSoFar_index = i\n",
      "            startSoFar = start_previous\n",
      "    return L[startSoFar:maxSoFar_index + 1]\n"
     ],
     "language": "python",
     "metadata": {},
     "outputs": [],
     "prompt_number": 385
    },
    {
     "cell_type": "code",
     "collapsed": false,
     "input": [
      "start = clock()\n",
      "log(\"Start Program\")"
     ],
     "language": "python",
     "metadata": {},
     "outputs": [
      {
       "output_type": "stream",
       "stream": "stdout",
       "text": [
        "========================================\n",
        "128.767054 - Start Program\n",
        "========================================\n",
        "\n"
       ]
      }
     ],
     "prompt_number": 386
    },
    {
     "cell_type": "code",
     "collapsed": false,
     "input": [
      "linear([random.randrange(-100000, 100000, 1) for i in xrange(100)])"
     ],
     "language": "python",
     "metadata": {},
     "outputs": [
      {
       "metadata": {},
       "output_type": "pyout",
       "prompt_number": 387,
       "text": [
        "[43194,\n",
        " 33870,\n",
        " -20028,\n",
        " 49416,\n",
        " 67470,\n",
        " 29746,\n",
        " -8057,\n",
        " -85919,\n",
        " 11776,\n",
        " -72553,\n",
        " -1248,\n",
        " 10401,\n",
        " 75622,\n",
        " -38433,\n",
        " 10801,\n",
        " -37829,\n",
        " -36391,\n",
        " 80732,\n",
        " 21768,\n",
        " 82887,\n",
        " 92554,\n",
        " -3816,\n",
        " -78427,\n",
        " 38851,\n",
        " -83125,\n",
        " -73060,\n",
        " 95881,\n",
        " 4119,\n",
        " -52529,\n",
        " -62960,\n",
        " 71808,\n",
        " 72765,\n",
        " -68534,\n",
        " -87636,\n",
        " 57830,\n",
        " -65436,\n",
        " -15962,\n",
        " 99929,\n",
        " 57687,\n",
        " 84476,\n",
        " 18733,\n",
        " 58832,\n",
        " -62558,\n",
        " 38881,\n",
        " -57659,\n",
        " 63389,\n",
        " -572,\n",
        " 59683,\n",
        " -18696,\n",
        " -24229,\n",
        " 27311,\n",
        " 80249,\n",
        " -7363,\n",
        " 74986,\n",
        " 41775,\n",
        " 36303,\n",
        " 38126,\n",
        " 50586]"
       ]
      }
     ],
     "prompt_number": 387
    },
    {
     "cell_type": "code",
     "collapsed": false,
     "input": [
      "endlog()"
     ],
     "language": "python",
     "metadata": {},
     "outputs": [
      {
       "output_type": "stream",
       "stream": "stdout",
       "text": [
        "========================================\n",
        "128.784894 - End Program\n",
        "Elapsed time: 0.017877\n",
        "========================================\n",
        "\n"
       ]
      }
     ],
     "prompt_number": 388
    },
    {
     "cell_type": "code",
     "collapsed": false,
     "input": [],
     "language": "python",
     "metadata": {},
     "outputs": [],
     "prompt_number": 388
    }
   ],
   "metadata": {}
  }
 ]
}