{
 "metadata": {
  "name": "",
  "signature": "sha256:dde03acc19e2edb0df80ffab40603ee83ffe2acf56ba56ab79c2c7630607f8a9"
 },
 "nbformat": 3,
 "nbformat_minor": 0,
 "worksheets": [
  {
   "cells": [
    {
     "cell_type": "heading",
     "level": 5,
     "metadata": {},
     "source": [
      "Primeira quest\u00e3o"
     ]
    },
    {
     "cell_type": "code",
     "collapsed": false,
     "input": [
      "import random"
     ],
     "language": "python",
     "metadata": {},
     "outputs": [],
     "prompt_number": 389
    },
    {
     "cell_type": "code",
     "collapsed": false,
     "input": [
      "import atexit\n",
      "from time import clock\n",
      "\n",
      "def secondsToStr(t):\n",
      "    return \"%d:%02d:%02d.%03d\" % \\\n",
      "        reduce(lambda ll,b : divmod(ll[0],b) + ll[1:],\n",
      "            [(t*1000,),1000,60,60])\n",
      "\n",
      "line = \"=\"*40\n",
      "def log(s, elapsed=None):\n",
      "    print line\n",
      "    print clock(), '-', s\n",
      "    if elapsed:\n",
      "        print \"Elapsed time:\", elapsed\n",
      "    print line\n",
      "    print\n",
      "\n",
      "def endlog():\n",
      "    end = clock()\n",
      "    elapsed = end-start\n",
      "    log(\"End Program\", elapsed)\n",
      "\n",
      "def now():\n",
      "    return clock()\n"
     ],
     "language": "python",
     "metadata": {},
     "outputs": [],
     "prompt_number": 390
    },
    {
     "cell_type": "code",
     "collapsed": false,
     "input": [
      "def cubic(L):\n",
      "    sizeL = len(L)\n",
      "    if sizeL == 0:\n",
      "        return L\n",
      "    max_sum = L[0]\n",
      "    max_subsequence = []\n",
      "    for i in range(sizeL):          \n",
      "        max_subsequence.append(L[i]) \n",
      "        \n",
      "    for j in range(1, sizeL):\n",
      "        for i in range(j): \n",
      "            current_sum = 0\n",
      "            for k in range(i,j):\n",
      "                current_sum += L[k]\n",
      "            if current_sum > max_sum:\n",
      "                max_sum = current_sum\n",
      "                max_subsequence = L[i:j]\n",
      "    return max_subsequence"
     ],
     "language": "python",
     "metadata": {},
     "outputs": [],
     "prompt_number": 428
    },
    {
     "cell_type": "code",
     "collapsed": false,
     "input": [
      "start = clock()\n",
      "log(\"Start Program\")"
     ],
     "language": "python",
     "metadata": {},
     "outputs": [
      {
       "output_type": "stream",
       "stream": "stdout",
       "text": [
        "========================================\n",
        "129.797218 - Start Program\n",
        "========================================\n",
        "\n"
       ]
      }
     ],
     "prompt_number": 429
    },
    {
     "cell_type": "code",
     "collapsed": false,
     "input": [
      "cubic([random.randrange(-100000, 100000, 1) for i in xrange(10)])"
     ],
     "language": "python",
     "metadata": {},
     "outputs": [
      {
       "metadata": {},
       "output_type": "pyout",
       "prompt_number": 430,
       "text": [
        "[-84478]"
       ]
      }
     ],
     "prompt_number": 430
    },
    {
     "cell_type": "code",
     "collapsed": false,
     "input": [
      "endlog()"
     ],
     "language": "python",
     "metadata": {},
     "outputs": [
      {
       "output_type": "stream",
       "stream": "stdout",
       "text": [
        "========================================\n",
        "129.810872 - End Program\n",
        "Elapsed time: 0.013761\n",
        "========================================\n",
        "\n"
       ]
      }
     ],
     "prompt_number": 431
    },
    {
     "cell_type": "code",
     "collapsed": false,
     "input": [
      "def quadratic(L):\n",
      "    sizeL = len(L)\n",
      "    if sizeL == 0:\n",
      "        return L\n",
      "    max_sum = L[0]\n",
      "    \n",
      "    max_subsequence = []\n",
      "    for i in range(sizeL):          \n",
      "        max_subsequence.append(L[i]) \n",
      "        \n",
      "    for j in range(sizeL):\n",
      "        current_sum = 0\n",
      "        for i in range(j, sizeL):\n",
      "            current_sum += L[i]\n",
      "            if current_sum > max_sum:\n",
      "                max_sum = current_sum\n",
      "                max_subsequence = L[j:i+1]\n",
      "    return max_subsequence"
     ],
     "language": "python",
     "metadata": {},
     "outputs": [],
     "prompt_number": 432
    },
    {
     "cell_type": "code",
     "collapsed": false,
     "input": [
      "start = clock()\n",
      "log(\"Start Program\")"
     ],
     "language": "python",
     "metadata": {},
     "outputs": [
      {
       "output_type": "stream",
       "stream": "stdout",
       "text": [
        "========================================\n",
        "129.833549 - Start Program\n",
        "========================================\n",
        "\n"
       ]
      }
     ],
     "prompt_number": 433
    },
    {
     "cell_type": "code",
     "collapsed": false,
     "input": [
      "quadratic([random.randrange(-100000, 100000, 1) for i in xrange(10)])"
     ],
     "language": "python",
     "metadata": {},
     "outputs": [
      {
       "metadata": {},
       "output_type": "pyout",
       "prompt_number": 434,
       "text": [
        "[80834]"
       ]
      }
     ],
     "prompt_number": 434
    },
    {
     "cell_type": "code",
     "collapsed": false,
     "input": [
      "endlog()"
     ],
     "language": "python",
     "metadata": {},
     "outputs": [
      {
       "output_type": "stream",
       "stream": "stdout",
       "text": [
        "========================================\n",
        "129.847922 - End Program\n",
        "Elapsed time: 0.014472\n",
        "========================================\n",
        "\n"
       ]
      }
     ],
     "prompt_number": 435
    },
    {
     "cell_type": "code",
     "collapsed": false,
     "input": [
      "def linear(L):\n",
      "    startSoFar = 0\n",
      "    start_previous = 0\n",
      "    maxSoFar_index = 0\n",
      "    maxSoFar = L[0]\n",
      "    max_previous = L[0]\n",
      "    for i in range(1,len(L)):\n",
      "        if max_previous + L[i] >= L[i]:\n",
      "            max_previous = max_previous + L[i]\n",
      "        else:\n",
      "            start_previous = i\n",
      "            max_previous = L[i]\n",
      "        if max_previous >= maxSoFar:\n",
      "            maxSoFar = max_previous\n",
      "            maxSoFar_index = i\n",
      "            startSoFar = start_previous\n",
      "    return L[startSoFar:maxSoFar_index + 1]\n"
     ],
     "language": "python",
     "metadata": {},
     "outputs": [],
     "prompt_number": 436
    },
    {
     "cell_type": "code",
     "collapsed": false,
     "input": [
      "start = clock()\n",
      "log(\"Start Program\")"
     ],
     "language": "python",
     "metadata": {},
     "outputs": [
      {
       "output_type": "stream",
       "stream": "stdout",
       "text": [
        "========================================\n",
        "129.870252 - Start Program\n",
        "========================================\n",
        "\n"
       ]
      }
     ],
     "prompt_number": 437
    },
    {
     "cell_type": "code",
     "collapsed": false,
     "input": [
      "linear([random.randrange(-100000, 100000, 1) for i in xrange(10)])"
     ],
     "language": "python",
     "metadata": {},
     "outputs": [
      {
       "metadata": {},
       "output_type": "pyout",
       "prompt_number": 438,
       "text": [
        "[96938]"
       ]
      }
     ],
     "prompt_number": 438
    },
    {
     "cell_type": "code",
     "collapsed": false,
     "input": [
      "endlog()"
     ],
     "language": "python",
     "metadata": {},
     "outputs": [
      {
       "output_type": "stream",
       "stream": "stdout",
       "text": [
        "========================================\n",
        "129.884387 - End Program\n",
        "Elapsed time: 0.014221\n",
        "========================================\n",
        "\n"
       ]
      }
     ],
     "prompt_number": 439
    },
    {
     "cell_type": "code",
     "collapsed": false,
     "input": [
      "def quadraticN(L):\n",
      "\n",
      "\tn = len(L)\n",
      "\tif n<1:\n",
      "\t\treturn L\n",
      "\n",
      "\tmaxSoFar_index = 0\n",
      "\tmax =[]\n",
      "\tsubsequence = []\n",
      "\n",
      "\tfor i in range(n):          \n",
      "\t\tmax.append(L[i])\n",
      "\n",
      "\tfor i in range(n):          \n",
      "\t\tsubsequence.append(-1) \n",
      "\n",
      "\tfor i in range(1,n):    \n",
      "\t\tfor j in range(i):                            \n",
      "\t\t\tif max[j] + L[i] >= max[i]:                                \n",
      "\t\t\t\tsubsequence[i] =j                                \n",
      "\t\t\t\tmax[i] = max[j] + L[i]                                  \n",
      "\t\tif max[i] >=max[maxSoFar_index]:                     \n",
      "\t\t\tmaxSoFar_index = i\n",
      "\t\t\t \n",
      "\t#print maxSoFar_index\n",
      "\tk = maxSoFar_index\n",
      "\tmax_subsequence=[]\n",
      "\n",
      "\twhile k != -1 : \n",
      "\t\t#print k           \n",
      "\t\tmax_subsequence.append(L[k])            \n",
      "\t\tk = subsequence[k]\n",
      "\n",
      "\tmax_subsequence.reverse()                             \n",
      "\treturn max_subsequence"
     ],
     "language": "python",
     "metadata": {},
     "outputs": [],
     "prompt_number": 440
    },
    {
     "cell_type": "code",
     "collapsed": false,
     "input": [
      "start = clock()\n",
      "log(\"Start Program\")"
     ],
     "language": "python",
     "metadata": {},
     "outputs": [
      {
       "output_type": "stream",
       "stream": "stdout",
       "text": [
        "========================================\n",
        "129.922036 - Start Program\n",
        "========================================\n",
        "\n"
       ]
      }
     ],
     "prompt_number": 441
    },
    {
     "cell_type": "code",
     "collapsed": false,
     "input": [
      "quadraticN([random.randrange(-100000, 100000, 1) for i in xrange(100)])"
     ],
     "language": "python",
     "metadata": {},
     "outputs": [
      {
       "metadata": {},
       "output_type": "pyout",
       "prompt_number": 442,
       "text": [
        "[59401,\n",
        " 72782,\n",
        " 14644,\n",
        " 49192,\n",
        " 24446,\n",
        " 10255,\n",
        " 19868,\n",
        " 76550,\n",
        " 59166,\n",
        " 59649,\n",
        " 46288,\n",
        " 20691,\n",
        " 98560,\n",
        " 4181,\n",
        " 42402,\n",
        " 48158,\n",
        " 28720,\n",
        " 17284,\n",
        " 54146,\n",
        " 93615,\n",
        " 62356,\n",
        " 8915,\n",
        " 81858,\n",
        " 60566,\n",
        " 46181,\n",
        " 35059,\n",
        " 46085,\n",
        " 25842,\n",
        " 91054,\n",
        " 52757,\n",
        " 80697,\n",
        " 94855,\n",
        " 9243,\n",
        " 85767,\n",
        " 99955,\n",
        " 86515,\n",
        " 627,\n",
        " 26383,\n",
        " 86454,\n",
        " 73965,\n",
        " 83646,\n",
        " 29242,\n",
        " 96850,\n",
        " 31693,\n",
        " 44363,\n",
        " 46388,\n",
        " 35616,\n",
        " 76355,\n",
        " 45927,\n",
        " 93341,\n",
        " 90923]"
       ]
      }
     ],
     "prompt_number": 442
    },
    {
     "cell_type": "code",
     "collapsed": false,
     "input": [
      "endlog()"
     ],
     "language": "python",
     "metadata": {},
     "outputs": [
      {
       "output_type": "stream",
       "stream": "stdout",
       "text": [
        "========================================\n",
        "129.939883 - End Program\n",
        "Elapsed time: 0.017903\n",
        "========================================\n",
        "\n"
       ]
      }
     ],
     "prompt_number": 443
    }
   ],
   "metadata": {}
  }
 ]
}