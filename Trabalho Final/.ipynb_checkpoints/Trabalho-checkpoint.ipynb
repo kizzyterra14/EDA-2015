{
 "metadata": {
  "name": "",
  "signature": "sha256:922638fe164f7f3e5bc1a6e7aa4bd068bcbbd0289da395d6c01adb98215e862d"
 },
 "nbformat": 3,
 "nbformat_minor": 0,
 "worksheets": [
  {
   "cells": [
    {
     "cell_type": "heading",
     "level": 5,
     "metadata": {},
     "source": [
      "Primeira quest\u00e3o"
     ]
    },
    {
     "cell_type": "code",
     "collapsed": false,
     "input": [
      "import random"
     ],
     "language": "python",
     "metadata": {},
     "outputs": [],
     "prompt_number": 522
    },
    {
     "cell_type": "code",
     "collapsed": false,
     "input": [
      "import atexit\n",
      "from time import clock\n",
      "\n",
      "def secondsToStr(t):\n",
      "    return \"%d:%02d:%02d.%03d\" % \\\n",
      "        reduce(lambda ll,b : divmod(ll[0],b) + ll[1:],\n",
      "            [(t*1000,),1000,60,60])\n",
      "\n",
      "line = \"=\"*40\n",
      "def log(s, elapsed=None):\n",
      "    print line\n",
      "    print clock(), '-', s\n",
      "    if elapsed:\n",
      "        print \"Elapsed time:\", elapsed\n",
      "    print line\n",
      "    print\n",
      "\n",
      "def endlog():\n",
      "    end = clock()\n",
      "    elapsed = end-start\n",
      "    log(\"End Program\", elapsed)\n",
      "\n",
      "def now():\n",
      "    return clock()\n"
     ],
     "language": "python",
     "metadata": {},
     "outputs": [],
     "prompt_number": 523
    },
    {
     "cell_type": "code",
     "collapsed": false,
     "input": [
      "def cubic(L):\n",
      "    sizeL = len(L)\n",
      "    if sizeL == 0:\n",
      "        return L\n",
      "    max_sum = L[0]\n",
      "    max_subsequence = []\n",
      "    for i in range(sizeL):          \n",
      "        max_subsequence.append(L[i]) \n",
      "        \n",
      "    for j in range(1, sizeL):\n",
      "        for i in range(j): \n",
      "            current_sum = 0\n",
      "            for k in range(i,j):\n",
      "                current_sum += L[k]\n",
      "            if current_sum > max_sum:\n",
      "                max_sum = current_sum\n",
      "                max_subsequence = L[i:j]\n",
      "    return max_subsequence"
     ],
     "language": "python",
     "metadata": {},
     "outputs": [],
     "prompt_number": 524
    },
    {
     "cell_type": "code",
     "collapsed": false,
     "input": [
      "start = clock()\n",
      "log(\"Start Program\")"
     ],
     "language": "python",
     "metadata": {},
     "outputs": [
      {
       "output_type": "stream",
       "stream": "stdout",
       "text": [
        "========================================\n",
        "149.952686 - Start Program\n",
        "========================================\n",
        "\n"
       ]
      }
     ],
     "prompt_number": 525
    },
    {
     "cell_type": "code",
     "collapsed": false,
     "input": [
      "cubic([random.randrange(-100000, 100000, 1) for i in xrange(1000)])"
     ],
     "language": "python",
     "metadata": {},
     "outputs": [
      {
       "metadata": {},
       "output_type": "pyout",
       "prompt_number": 526,
       "text": [
        "[53415]"
       ]
      }
     ],
     "prompt_number": 526
    },
    {
     "cell_type": "code",
     "collapsed": false,
     "input": [
      "endlog()"
     ],
     "language": "python",
     "metadata": {},
     "outputs": [
      {
       "output_type": "stream",
       "stream": "stdout",
       "text": [
        "========================================\n",
        "149.96583 - End Program\n",
        "Elapsed time: 0.013177\n",
        "========================================\n",
        "\n"
       ]
      }
     ],
     "prompt_number": 527
    },
    {
     "cell_type": "code",
     "collapsed": false,
     "input": [
      "def quadratic(L):\n",
      "    sizeL = len(L)\n",
      "    if sizeL == 0:\n",
      "        return L\n",
      "    max_sum = L[0]\n",
      "    \n",
      "    max_subsequence = []\n",
      "    for i in range(sizeL):          \n",
      "        max_subsequence.append(L[i]) \n",
      "        \n",
      "    for j in range(sizeL):\n",
      "        current_sum = 0\n",
      "        for i in range(j, sizeL):\n",
      "            current_sum += L[i]\n",
      "            if current_sum > max_sum:\n",
      "                max_sum = current_sum\n",
      "                max_subsequence = L[j:i+1]\n",
      "    return max_subsequence"
     ],
     "language": "python",
     "metadata": {},
     "outputs": [],
     "prompt_number": 528
    },
    {
     "cell_type": "code",
     "collapsed": false,
     "input": [
      "start = clock()\n",
      "log(\"Start Program\")"
     ],
     "language": "python",
     "metadata": {},
     "outputs": [
      {
       "output_type": "stream",
       "stream": "stdout",
       "text": [
        "========================================\n",
        "149.984764 - Start Program\n",
        "========================================\n",
        "\n"
       ]
      }
     ],
     "prompt_number": 529
    },
    {
     "cell_type": "code",
     "collapsed": false,
     "input": [
      "quadratic([random.randrange(-100000, 100000, 1) for i in xrange(1)])"
     ],
     "language": "python",
     "metadata": {},
     "outputs": [
      {
       "metadata": {},
       "output_type": "pyout",
       "prompt_number": 530,
       "text": [
        "[-35138]"
       ]
      }
     ],
     "prompt_number": 530
    },
    {
     "cell_type": "code",
     "collapsed": false,
     "input": [
      "endlog()"
     ],
     "language": "python",
     "metadata": {},
     "outputs": [
      {
       "output_type": "stream",
       "stream": "stdout",
       "text": [
        "========================================\n",
        "149.999357 - End Program\n",
        "Elapsed time: 0.01472\n",
        "========================================\n",
        "\n"
       ]
      }
     ],
     "prompt_number": 531
    },
    {
     "cell_type": "code",
     "collapsed": false,
     "input": [
      "def linear(L):\n",
      "    startSoFar = 0\n",
      "    start_previous = 0\n",
      "    maxSoFar_index = 0\n",
      "    maxSoFar = L[0]\n",
      "    max_previous = L[0]\n",
      "    for i in range(1,len(L)):\n",
      "        if max_previous + L[i] >= L[i]:\n",
      "            max_previous = max_previous + L[i]\n",
      "        else:\n",
      "            start_previous = i\n",
      "            max_previous = L[i]\n",
      "        if max_previous >= maxSoFar:\n",
      "            maxSoFar = max_previous\n",
      "            maxSoFar_index = i\n",
      "            startSoFar = start_previous\n",
      "    return L[startSoFar:maxSoFar_index + 1]\n"
     ],
     "language": "python",
     "metadata": {},
     "outputs": [],
     "prompt_number": 532
    },
    {
     "cell_type": "code",
     "collapsed": false,
     "input": [
      "start = clock()\n",
      "log(\"Start Program\")"
     ],
     "language": "python",
     "metadata": {},
     "outputs": [
      {
       "output_type": "stream",
       "stream": "stdout",
       "text": [
        "========================================\n",
        "150.022701 - Start Program\n",
        "========================================\n",
        "\n"
       ]
      }
     ],
     "prompt_number": 533
    },
    {
     "cell_type": "code",
     "collapsed": false,
     "input": [
      "linear([random.randrange(-100000, 100000, 1) for i in xrange(1)])"
     ],
     "language": "python",
     "metadata": {},
     "outputs": [
      {
       "metadata": {},
       "output_type": "pyout",
       "prompt_number": 534,
       "text": [
        "[98185]"
       ]
      }
     ],
     "prompt_number": 534
    },
    {
     "cell_type": "code",
     "collapsed": false,
     "input": [
      "endlog()"
     ],
     "language": "python",
     "metadata": {},
     "outputs": [
      {
       "output_type": "stream",
       "stream": "stdout",
       "text": [
        "========================================\n",
        "150.035921 - End Program\n",
        "Elapsed time: 0.013317\n",
        "========================================\n",
        "\n"
       ]
      }
     ],
     "prompt_number": 535
    },
    {
     "cell_type": "code",
     "collapsed": false,
     "input": [
      "def quadraticN(L):\n",
      "\n",
      "\tn = len(L)\n",
      "\tif n<1:\n",
      "\t\treturn L\n",
      "\n",
      "\tmaxSoFar_index = 0\n",
      "\tmax =[]\n",
      "\tsubsequence = []\n",
      "\n",
      "\tfor i in range(n):          \n",
      "\t\tmax.append(L[i])\n",
      "\n",
      "\tfor i in range(n):          \n",
      "\t\tsubsequence.append(-1) \n",
      "\n",
      "\tfor i in range(1,n):    \n",
      "\t\tfor j in range(i):                            \n",
      "\t\t\tif max[j] + L[i] >= max[i]:                                \n",
      "\t\t\t\tsubsequence[i] =j                                \n",
      "\t\t\t\tmax[i] = max[j] + L[i]                                  \n",
      "\t\tif max[i] >=max[maxSoFar_index]:                     \n",
      "\t\t\tmaxSoFar_index = i\n",
      "\t\t\t \n",
      "\t#print maxSoFar_index\n",
      "\tk = maxSoFar_index\n",
      "\tmax_subsequence=[]\n",
      "\n",
      "\twhile k != -1 : \n",
      "\t\t#print k           \n",
      "\t\tmax_subsequence.append(L[k])            \n",
      "\t\tk = subsequence[k]\n",
      "\n",
      "\tmax_subsequence.reverse()                             \n",
      "\treturn max_subsequence"
     ],
     "language": "python",
     "metadata": {},
     "outputs": [],
     "prompt_number": 536
    },
    {
     "cell_type": "code",
     "collapsed": false,
     "input": [
      "start = clock()\n",
      "log(\"Start Program\")"
     ],
     "language": "python",
     "metadata": {},
     "outputs": [
      {
       "output_type": "stream",
       "stream": "stdout",
       "text": [
        "========================================\n",
        "150.073665 - Start Program\n",
        "========================================\n",
        "\n"
       ]
      }
     ],
     "prompt_number": 537
    },
    {
     "cell_type": "code",
     "collapsed": false,
     "input": [
      "quadraticN([random.randrange(-100000, 100000, 1) for i in xrange(1)])"
     ],
     "language": "python",
     "metadata": {},
     "outputs": [
      {
       "metadata": {},
       "output_type": "pyout",
       "prompt_number": 538,
       "text": [
        "[83613]"
       ]
      }
     ],
     "prompt_number": 538
    },
    {
     "cell_type": "code",
     "collapsed": false,
     "input": [
      "endlog()"
     ],
     "language": "python",
     "metadata": {},
     "outputs": [
      {
       "output_type": "stream",
       "stream": "stdout",
       "text": [
        "========================================\n",
        "150.087753 - End Program\n",
        "Elapsed time: 0.014185\n",
        "========================================\n",
        "\n"
       ]
      }
     ],
     "prompt_number": 539
    }
   ],
   "metadata": {}
  }
 ]
}