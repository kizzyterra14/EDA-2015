{
 "metadata": {
  "name": "",
  "signature": "sha256:660af3f4e840c430bf2c59ce8c09c80f9b007a86469fd971472a74161eb2aed7"
 },
 "nbformat": 3,
 "nbformat_minor": 0,
 "worksheets": [
  {
   "cells": [
    {
     "cell_type": "markdown",
     "metadata": {},
     "source": [
      "Implementa\u00e7\u00e3o do exerc\u00edcio 2.17 utilzando Array"
     ]
    },
    {
     "cell_type": "code",
     "collapsed": false,
     "input": [
      "def exercicio17(L):\n",
      "    n = len(L)\n",
      "    if n==1:\n",
      "        if L[0] == 0:\n",
      "            print 'true'\n",
      "    else:\n",
      "        if L[n/2] == n/2: \n",
      "            print 'true'\n",
      "        else:\n",
      "            if L[n/2] > n/2:\n",
      "                exercicio17(L[:n/2])\n",
      "            else:\n",
      "                exercicio17(L[n/2:]-n/2)"
     ],
     "language": "python",
     "metadata": {},
     "outputs": [],
     "prompt_number": 221
    },
    {
     "cell_type": "markdown",
     "metadata": {},
     "source": [
      "Implementa\u00e7\u00e3o de uma Lista Encadeada"
     ]
    },
    {
     "cell_type": "code",
     "collapsed": false,
     "input": [
      "def Node(value, next):\n",
      "    return [value, next]\n",
      "\n",
      "def insert(value, lst):\n",
      "    return [value, lst]\n",
      "\n",
      "def remove(value, lst):\n",
      "    current = lst\n",
      "    next = lst[1]\n",
      "    if current[0] == value:\n",
      "        return next\n",
      "    else:\n",
      "        while next:\n",
      "            if next[0] == value:\n",
      "                current[1] = next[1]\n",
      "                return lst\n",
      "            else:\n",
      "                current = next\n",
      "                next = next[1]\n",
      "\n",
      "#Implementado para evidenciar a complexidade das opera\u00e7\u00f5es           \n",
      "# def size(lst):\n",
      "#     size = 0\n",
      "#     if lst:\n",
      "#         size = 1\n",
      "#         next = lst[1]\n",
      "#         while next:\n",
      "#             size +=1\n",
      "#             next = next[1]\n",
      "#     return size\n",
      "\n",
      "# def get(i, lst):\n",
      "#     count = 0\n",
      "#     value = lst[0]\n",
      "#     next = lst[1]\n",
      "#     while count != i:\n",
      "#         if next:\n",
      "#             count +=1\n",
      "#             value = next[0]\n",
      "#             next = next[1]\n",
      "#         else:\n",
      "#             return \"Invalid index\"\n",
      "#     return value\n",
      "  \n",
      "    "
     ],
     "language": "python",
     "metadata": {},
     "outputs": [],
     "prompt_number": 272
    },
    {
     "cell_type": "code",
     "collapsed": false,
     "input": [
      "list = Node(0, Node(2, Node(3, [])))\n",
      "list"
     ],
     "language": "python",
     "metadata": {},
     "outputs": [
      {
       "metadata": {},
       "output_type": "pyout",
       "prompt_number": 218,
       "text": [
        "[0, [2, [3, []]]]"
       ]
      }
     ],
     "prompt_number": 218
    },
    {
     "cell_type": "code",
     "collapsed": false,
     "input": [
      "list = insert(4, list)\n",
      "list"
     ],
     "language": "python",
     "metadata": {},
     "outputs": [
      {
       "metadata": {},
       "output_type": "pyout",
       "prompt_number": 219,
       "text": [
        "[4, [0, [2, [3, []]]]]"
       ]
      }
     ],
     "prompt_number": 219
    },
    {
     "cell_type": "code",
     "collapsed": false,
     "input": [
      "list = remove(3, list)\n",
      "list"
     ],
     "language": "python",
     "metadata": {},
     "outputs": [
      {
       "metadata": {},
       "output_type": "pyout",
       "prompt_number": 220,
       "text": [
        "[4, [0, [2, []]]]"
       ]
      }
     ],
     "prompt_number": 220
    },
    {
     "cell_type": "code",
     "collapsed": false,
     "input": [
      "#size(list)"
     ],
     "language": "python",
     "metadata": {},
     "outputs": [],
     "prompt_number": 273
    },
    {
     "cell_type": "code",
     "collapsed": false,
     "input": [
      "#get(0, list)"
     ],
     "language": "python",
     "metadata": {},
     "outputs": [],
     "prompt_number": 274
    },
    {
     "cell_type": "markdown",
     "metadata": {},
     "source": [
      "Implementa\u00e7\u00e3o do exerc\u00edco 2.17 utilizando lista encadeada"
     ]
    },
    {
     "cell_type": "markdown",
     "metadata": {},
     "source": [
      "Analisando as opera\u00e7\u00f5es implementadas para a lista e o algoritmo proposto para a solu\u00e7\u00e3o do exerc\u00edcio 2.17 fica claro que n\u00e3o \u00e9 poss\u00edvel implement\u00e1-lo em O(log n). Para chegar ao meio da lista, por exemplo, precisamos percorrer todos os elementos da lista at\u00e9 o centro, essa opera\u00e7\u00e3o tem custo k*n/2 = O(n). Desta forma, no caso de uma lista encadeada a solu\u00e7\u00e3o mais simples para este exerc\u00edcio \u00e9 visitar elemento a elemento da lista para verificar se A[i] = i e retornar verdadeiro na primeira ocorr\u00eancia. Segue a implementa\u00e7\u00e3o:"
     ]
    },
    {
     "cell_type": "code",
     "collapsed": false,
     "input": [
      "def exercicio17_lista(lst):\n",
      "    index = 0\n",
      "    value = lst[0]\n",
      "    next = lst[1]\n",
      "    while index != value:\n",
      "        if next:\n",
      "            index +=1\n",
      "            value = next[0]\n",
      "            next = next[1]\n",
      "        else:\n",
      "            return 'false'\n",
      "    return 'true'"
     ],
     "language": "python",
     "metadata": {},
     "outputs": [],
     "prompt_number": 256
    },
    {
     "cell_type": "code",
     "collapsed": false,
     "input": [
      "list = Node(1, Node(0, Node(3, [])))\n",
      "list"
     ],
     "language": "python",
     "metadata": {},
     "outputs": [
      {
       "metadata": {},
       "output_type": "pyout",
       "prompt_number": 265,
       "text": [
        "[1, [0, [3, []]]]"
       ]
      }
     ],
     "prompt_number": 265
    },
    {
     "cell_type": "code",
     "collapsed": false,
     "input": [
      "exercicio17_lista(list)"
     ],
     "language": "python",
     "metadata": {},
     "outputs": [
      {
       "metadata": {},
       "output_type": "pyout",
       "prompt_number": 266,
       "text": [
        "'false'"
       ]
      }
     ],
     "prompt_number": 266
    },
    {
     "cell_type": "markdown",
     "metadata": {},
     "source": [
      "Implementa\u00e7\u00e3o peak finding utilizando Array"
     ]
    },
    {
     "cell_type": "code",
     "collapsed": false,
     "input": [],
     "language": "python",
     "metadata": {},
     "outputs": []
    }
   ],
   "metadata": {}
  }
 ]
}