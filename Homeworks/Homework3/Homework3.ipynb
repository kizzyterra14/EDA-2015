{
 "metadata": {
  "name": "",
  "signature": "sha256:96c93d8d3c9145133c86faa1f3c17b1a3576bab080b3ff22d70e2be9085cad79"
 },
 "nbformat": 3,
 "nbformat_minor": 0,
 "worksheets": [
  {
   "cells": [
    {
     "cell_type": "markdown",
     "metadata": {},
     "source": [
      "Implementa\u00e7\u00e3o do exerc\u00edcio 2.17 (cap\u00edtulo 2 - Papadimitriou) "
     ]
    },
    {
     "cell_type": "markdown",
     "metadata": {},
     "source": [
      "1) Utilzando Array"
     ]
    },
    {
     "cell_type": "code",
     "collapsed": false,
     "input": [
      "def exercicio17(L):\n",
      "    n = len(L)\n",
      "    if n==1:\n",
      "        if L[0] == 0:\n",
      "            print 'true'\n",
      "    else:\n",
      "        if L[n/2] == n/2: \n",
      "            print 'true'\n",
      "        else:\n",
      "            if L[n/2] > n/2:\n",
      "                exercicio17(L[:n/2])\n",
      "            else:\n",
      "                exercicio17(L[n/2:]-n/2)"
     ],
     "language": "python",
     "metadata": {},
     "outputs": [],
     "prompt_number": 70
    },
    {
     "cell_type": "markdown",
     "metadata": {},
     "source": [
      "2) Utilizando Lista Encadeada"
     ]
    },
    {
     "cell_type": "markdown",
     "metadata": {},
     "source": [
      "Implementa\u00e7\u00e3o de uma Lista Encadeada"
     ]
    },
    {
     "cell_type": "code",
     "collapsed": false,
     "input": [
      "def Node(value, next):\n",
      "    return [value, next]\n",
      "\n",
      "def emptyList():\n",
      "    return []\n",
      "\n",
      "#inserts a value in the head of the list\n",
      "def insert(value, head):\n",
      "    return Node(value, head)\n",
      "\n",
      "# returns a new list without Node corresponding to value\n",
      "def remove(value, lst):\n",
      "    current = lst\n",
      "    next = lst[1]\n",
      "    if current[0] == value:\n",
      "        lst = current[1]\n",
      "        return lst\n",
      "    else:\n",
      "        while next:\n",
      "            if next[0] == value:\n",
      "                current[1] = next[1]\n",
      "                return lst\n",
      "            else:\n",
      "                current = next\n",
      "                next = next[1]\n",
      "\n",
      "#Implementado para evidenciar a complexidade das opera\u00e7\u00f5es           \n",
      "# def size(lst):\n",
      "#     size = 0\n",
      "#     if lst:\n",
      "#         size = 1\n",
      "#         next = lst[1]\n",
      "#         while next:\n",
      "#             size +=1\n",
      "#             next = next[1]\n",
      "#     return size\n",
      "\n",
      "# def get(i, lst):\n",
      "#     count = 0\n",
      "#     value = lst[0]\n",
      "#     next = lst[1]\n",
      "#     while count != i:\n",
      "#         if next:\n",
      "#             count +=1\n",
      "#             value = next[0]\n",
      "#             next = next[1]\n",
      "#         else:\n",
      "#             return \"Invalid index\"\n",
      "#     return value\n",
      "  \n",
      "    "
     ],
     "language": "python",
     "metadata": {},
     "outputs": [],
     "prompt_number": 101
    },
    {
     "cell_type": "code",
     "collapsed": false,
     "input": [
      "list = Node(0, Node(2, Node(3, emptyList())))\n",
      "list"
     ],
     "language": "python",
     "metadata": {},
     "outputs": [
      {
       "metadata": {},
       "output_type": "pyout",
       "prompt_number": 102,
       "text": [
        "[0, [2, [3, []]]]"
       ]
      }
     ],
     "prompt_number": 102
    },
    {
     "cell_type": "code",
     "collapsed": false,
     "input": [
      "list = insert(4, list)\n",
      "list"
     ],
     "language": "python",
     "metadata": {},
     "outputs": [
      {
       "metadata": {},
       "output_type": "pyout",
       "prompt_number": 103,
       "text": [
        "[4, [0, [2, [3, []]]]]"
       ]
      }
     ],
     "prompt_number": 103
    },
    {
     "cell_type": "code",
     "collapsed": false,
     "input": [
      "list = remove(3, list)\n",
      "list"
     ],
     "language": "python",
     "metadata": {},
     "outputs": [
      {
       "metadata": {},
       "output_type": "pyout",
       "prompt_number": 90,
       "text": [
        "[4, [0, [2, []]]]"
       ]
      }
     ],
     "prompt_number": 90
    },
    {
     "cell_type": "code",
     "collapsed": false,
     "input": [
      "list = remove(4, list)\n",
      "list"
     ],
     "language": "python",
     "metadata": {},
     "outputs": [
      {
       "metadata": {},
       "output_type": "pyout",
       "prompt_number": 91,
       "text": [
        "[0, [2, []]]"
       ]
      }
     ],
     "prompt_number": 91
    },
    {
     "cell_type": "code",
     "collapsed": false,
     "input": [
      "#size(list)"
     ],
     "language": "python",
     "metadata": {},
     "outputs": [],
     "prompt_number": 273
    },
    {
     "cell_type": "code",
     "collapsed": false,
     "input": [
      "#get(0, list)"
     ],
     "language": "python",
     "metadata": {},
     "outputs": [],
     "prompt_number": 274
    },
    {
     "cell_type": "markdown",
     "metadata": {},
     "source": [
      "Analisando as opera\u00e7\u00f5es implementadas para a lista e o algoritmo proposto para a solu\u00e7\u00e3o do exerc\u00edcio 2.17 fica claro que n\u00e3o \u00e9 poss\u00edvel implement\u00e1-lo em O(log n). Para chegar ao meio da lista, por exemplo, precisamos percorrer todos os elementos da lista at\u00e9 o centro, essa opera\u00e7\u00e3o tem custo k*n/2 = O(n). Desta forma, no caso de uma lista encadeada a solu\u00e7\u00e3o mais simples para este exerc\u00edcio \u00e9 visitar elemento a elemento da lista para verificar se A[i] = i e retornar verdadeiro na primeira ocorr\u00eancia. Segue a implementa\u00e7\u00e3o:"
     ]
    },
    {
     "cell_type": "code",
     "collapsed": false,
     "input": [
      "def exercicio17_lista(lst):\n",
      "    index = 0\n",
      "    value = lst[0]\n",
      "    next = lst[1]\n",
      "    while index != value:\n",
      "        if next:\n",
      "            index +=1\n",
      "            value = next[0]\n",
      "            next = next[1]\n",
      "        else:\n",
      "            return 'false'\n",
      "    return 'true'"
     ],
     "language": "python",
     "metadata": {},
     "outputs": [],
     "prompt_number": 256
    },
    {
     "cell_type": "code",
     "collapsed": false,
     "input": [
      "list = Node(1, Node(0, Node(3, [])))\n",
      "list"
     ],
     "language": "python",
     "metadata": {},
     "outputs": [
      {
       "metadata": {},
       "output_type": "pyout",
       "prompt_number": 265,
       "text": [
        "[1, [0, [3, []]]]"
       ]
      }
     ],
     "prompt_number": 265
    },
    {
     "cell_type": "code",
     "collapsed": false,
     "input": [
      "exercicio17_lista(list)"
     ],
     "language": "python",
     "metadata": {},
     "outputs": [
      {
       "metadata": {},
       "output_type": "pyout",
       "prompt_number": 266,
       "text": [
        "'false'"
       ]
      }
     ],
     "prompt_number": 266
    },
    {
     "cell_type": "markdown",
     "metadata": {},
     "source": [
      "Implementa\u00e7\u00e3o Exerc\u00edcio Resolvido 1 (cap\u00edtulo 5 - Eva Tardos) utilizando Array"
     ]
    },
    {
     "cell_type": "markdown",
     "metadata": {},
     "source": [
      "1) Utilizando Array"
     ]
    },
    {
     "cell_type": "code",
     "collapsed": false,
     "input": [
      "##############################################\n",
      "# Essa fun\u00e7\u00e3o deve receber um vetor unimodal #\n",
      "##############################################\n",
      "\n",
      "def exercicio1(L):\n",
      "    n = len(L)\n",
      "    if n < 3:\n",
      "        if L[0] > L[1]:\n",
      "          return L[0]\n",
      "        else:\n",
      "          return L[1]\n",
      "    else:\n",
      "        if L[n/2] > L[n/2 + 1]: \n",
      "            if L[n/2] > L[n/2 - 1]:\n",
      "                return L[n/2]\n",
      "            else:\n",
      "               return exercicio1(L[:n/2])\n",
      "        else:\n",
      "           return  exercicio1(L[n/2:])"
     ],
     "language": "python",
     "metadata": {},
     "outputs": [],
     "prompt_number": 4
    },
    {
     "cell_type": "code",
     "collapsed": false,
     "input": [
      "exercicio1([5,6,7,8,1,2,3])"
     ],
     "language": "python",
     "metadata": {},
     "outputs": [
      {
       "metadata": {},
       "output_type": "pyout",
       "prompt_number": 5,
       "text": [
        "8"
       ]
      }
     ],
     "prompt_number": 5
    },
    {
     "cell_type": "code",
     "collapsed": false,
     "input": [
      "exercicio1([8,9,10,20,17,16,15,14,13,12,11])"
     ],
     "language": "python",
     "metadata": {},
     "outputs": [
      {
       "metadata": {},
       "output_type": "pyout",
       "prompt_number": 7,
       "text": [
        "20"
       ]
      }
     ],
     "prompt_number": 7
    },
    {
     "cell_type": "markdown",
     "metadata": {},
     "source": [
      "2) Utilizando lista encadeada"
     ]
    },
    {
     "cell_type": "markdown",
     "metadata": {},
     "source": [
      "Assim como no exerc\u00edcio anterior, se utilizarmos lista encadeada para implementar este algoritmo a complexidade passa a ser O(n) devido aos acessos aleat\u00f3rios que s\u00e3o utilizados no algoritmo. Considerando a complexidade O(n) podemos implementar um outro algoritmo utilizando uma lista duplamente encadeada ao inv\u00e9s de utilizar uma lista encadeada, para faciitar a compara\u00e7\u00e3o entre um n\u00f3, seu n\u00f3 antecessor e seu n\u00f3 sucessor. O novo algoritmo consiste simplesmente de percorrer a lista at\u00e9 encontrar o n\u00f3 que satisfaz a propriedade desejada (n\u00f3 i: tal que A[i] > A[i-1] e A[i] > A[i+1])"
     ]
    },
    {
     "cell_type": "markdown",
     "metadata": {},
     "source": [
      "Implementa\u00e7\u00e3o de uma Lista Duplamente Encadeada"
     ]
    },
    {
     "cell_type": "code",
     "collapsed": false,
     "input": [
      "class DNode:\n",
      "    def __init__(self):\n",
      "        self.value = None \n",
      "        self.next = None \n",
      "        self.previous = None\n",
      "    \n",
      "class DLList:\n",
      "    def __init__(self):\n",
      "        self.head_node = DNode()\n",
      "        self.tail_node = DNode()\n",
      "\n",
      "    def add_node_head(self, value):\n",
      "        new_node = DNode() \n",
      "        new_node.value = value\n",
      "        if not (self.head_node.next and self.tail_node.previous):\n",
      "            self.head_node.next = new_node\n",
      "            self.tail_node.previous = new_node\n",
      "        else:\n",
      "            if self.head_node.next:\n",
      "                new_node.next = self.head_node.next \n",
      "                self.head_node.next = new_node\n",
      "                new_node.next.previous = new_node\n",
      "            \n",
      "    def add_node_tail(self, value):\n",
      "        new_node = DNode() \n",
      "        new_node.value = value\n",
      "        if not (self.head_node.next and self.tail_node.previous):\n",
      "            self.head_node.next = new_node\n",
      "            self.tail_node.previous = new_node\n",
      "        else:\n",
      "            if self.tail_node.previous:\n",
      "                new_node.previous = self.tail_node.previous\n",
      "                self.tail_node.previous = new_node\n",
      "                new_node.previous.next = new_node\n",
      "            \n",
      "    def print_(self):\n",
      "        node = self.head_node.next # cant point to ll!\n",
      "        while node:\n",
      "            print node.value\n",
      "            node = node.next\n",
      "        "
     ],
     "language": "python",
     "metadata": {},
     "outputs": [],
     "prompt_number": 168
    },
    {
     "cell_type": "code",
     "collapsed": false,
     "input": [
      "listDup = DLList()"
     ],
     "language": "python",
     "metadata": {},
     "outputs": [],
     "prompt_number": 193
    },
    {
     "cell_type": "code",
     "collapsed": false,
     "input": [
      "listDup.add_node_tail(8)\n",
      "listDup.add_node_tail(9)\n",
      "listDup.add_node_tail(10)\n",
      "listDup.add_node_tail(11)\n",
      "listDup.add_node_tail(12)\n",
      "listDup.add_node_tail(7)\n",
      "listDup.add_node_tail(6)\n",
      "listDup.add_node_tail(5)\n",
      "listDup.add_node_tail(4)\n",
      "listDup.add_node_tail(3)"
     ],
     "language": "python",
     "metadata": {},
     "outputs": [],
     "prompt_number": 194
    },
    {
     "cell_type": "code",
     "collapsed": false,
     "input": [
      "listDup.print_()"
     ],
     "language": "python",
     "metadata": {},
     "outputs": [
      {
       "output_type": "stream",
       "stream": "stdout",
       "text": [
        "8\n",
        "9\n",
        "10\n",
        "11\n",
        "12\n",
        "7\n",
        "6\n",
        "5\n",
        "4\n",
        "3\n"
       ]
      }
     ],
     "prompt_number": 195
    },
    {
     "cell_type": "code",
     "collapsed": false,
     "input": [
      "###################################################################\n",
      "# Essa fun\u00e7\u00e3o deve receber um lista duplamente encadeada unimodal #\n",
      "###################################################################\n",
      "\n",
      "def exercicio1_lista(L):\n",
      "     node = L.head_node.next # cant point to ll!\n",
      "     while node.value < node.next.value and node.next:\n",
      "            node = node.next\n",
      "     return node.value\n",
      "                        \n",
      "    "
     ],
     "language": "python",
     "metadata": {},
     "outputs": [],
     "prompt_number": 196
    },
    {
     "cell_type": "code",
     "collapsed": false,
     "input": [
      "exercicio1_lista(listDup)"
     ],
     "language": "python",
     "metadata": {},
     "outputs": [
      {
       "metadata": {},
       "output_type": "pyout",
       "prompt_number": 197,
       "text": [
        "12"
       ]
      }
     ],
     "prompt_number": 197
    },
    {
     "cell_type": "code",
     "collapsed": false,
     "input": [],
     "language": "python",
     "metadata": {},
     "outputs": []
    }
   ],
   "metadata": {}
  }
 ]
}