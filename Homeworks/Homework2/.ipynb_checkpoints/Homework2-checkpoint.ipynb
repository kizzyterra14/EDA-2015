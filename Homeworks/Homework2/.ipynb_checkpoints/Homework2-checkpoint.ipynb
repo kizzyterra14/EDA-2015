{
 "metadata": {
  "name": "",
  "signature": "sha256:12df1be3c270c1112b1118f8b380e668eefbc6fe6e6d867fc19b1ded776917cf"
 },
 "nbformat": 3,
 "nbformat_minor": 0,
 "worksheets": [
  {
   "cells": [
    {
     "cell_type": "markdown",
     "metadata": {},
     "source": [
      "Implementa\u00e7\u00e3o Multiplica\u00e7\u00e3o a la Francais\n"
     ]
    },
    {
     "cell_type": "code",
     "collapsed": false,
     "input": [
      "def multiply1(x, y): # y>= 0\n",
      "    if y == 0:\n",
      "        return 0\n",
      "    else:\n",
      "        z = multiply1(x, y//2)\n",
      "        if  y%2 == 0:\n",
      "            return 2*z\n",
      "        else:\n",
      "            return x + 2*z\n",
      "    "
     ],
     "language": "python",
     "metadata": {},
     "outputs": [],
     "prompt_number": 3
    },
    {
     "cell_type": "code",
     "collapsed": false,
     "input": [
      "multiply1(2, 0)"
     ],
     "language": "python",
     "metadata": {},
     "outputs": [
      {
       "metadata": {},
       "output_type": "pyout",
       "prompt_number": 4,
       "text": [
        "0"
       ]
      }
     ],
     "prompt_number": 4
    },
    {
     "cell_type": "code",
     "collapsed": false,
     "input": [
      "multiply1(2, 2)"
     ],
     "language": "python",
     "metadata": {},
     "outputs": [
      {
       "metadata": {},
       "output_type": "pyout",
       "prompt_number": 5,
       "text": [
        "4"
       ]
      }
     ],
     "prompt_number": 5
    },
    {
     "cell_type": "code",
     "collapsed": false,
     "input": [
      "multiply1(13, 11)"
     ],
     "language": "python",
     "metadata": {},
     "outputs": [
      {
       "metadata": {},
       "output_type": "pyout",
       "prompt_number": 6,
       "text": [
        "143"
       ]
      }
     ],
     "prompt_number": 6
    },
    {
     "cell_type": "markdown",
     "metadata": {},
     "source": [
      "Implementa\u00e7\u00e3o multiplica\u00e7\u00e3o tradicional"
     ]
    },
    {
     "cell_type": "code",
     "collapsed": false,
     "input": [
      "def getDigits(x):\n",
      "    digits = []\n",
      "    \n",
      "    if x == 0:\n",
      "        return ([],0)\n",
      "    else:\n",
      "        i=0\n",
      "        p = 1\n",
      "        r = x\n",
      "        while (r > 0):\n",
      "            digit = r%10\n",
      "            digits.insert(i, digit)\n",
      "            p *= 10\n",
      "            r = x//p\n",
      "            i = i + 1\n",
      "        return (digits, i)\n",
      "    \n",
      "\n",
      "def shiftright(x, s):\n",
      "    while s > 0:\n",
      "        x *=10\n",
      "        s  = s-1   \n",
      "    return x"
     ],
     "language": "python",
     "metadata": {},
     "outputs": [],
     "prompt_number": 7
    },
    {
     "cell_type": "code",
     "collapsed": false,
     "input": [
      "def multiply(x, y):\n",
      "    if x == 0 or y == 1:\n",
      "        return x\n",
      "    if y == 0 or x == 1:\n",
      "        return y\n",
      "    else:\n",
      "        x_digits = getDigits(x)\n",
      "        y_digits = getDigits(y)\n",
      "        n_x = 0\n",
      "        n_y = 0\n",
      "        res = 0\n",
      "        for n_y in range(0, y_digits[1]):\n",
      "            res_partial = 0\n",
      "            for n_x in range(0, x_digits[1]):\n",
      "                res_partial +=  shiftright(y_digits[0][n_y]*x_digits[0][n_x], n_x + n_y)\n",
      "                n_x +=1\n",
      "            res += res_partial\n",
      "            n_y += 1\n",
      "        return res\n",
      "    \n",
      "#Alternativa\n",
      "def multiply2(x, y):\n",
      "    if x == 0 or y == 1:\n",
      "        return x\n",
      "    if y == 0 or x == 1:\n",
      "        return y\n",
      "    else:\n",
      "        x_digits = str(x)\n",
      "        y_digits = str(y)\n",
      "        n_x = 0\n",
      "        n_y = 0\n",
      "        res = 0\n",
      "        for n_y in range(0, len(y_digits)):\n",
      "            res_partial = 0\n",
      "            for n_x in range(0, len(x_digits)):\n",
      "                res_partial +=  shiftright(int(y_digits[len(y_digits) - 1 - n_y])*int(x_digits[len(x_digits) - 1 - n_x]), n_x + n_y)\n",
      "                n_x +=1\n",
      "            res += res_partial\n",
      "            n_y += 1\n",
      "            \n",
      "        return res"
     ],
     "language": "python",
     "metadata": {},
     "outputs": [],
     "prompt_number": 8
    },
    {
     "cell_type": "code",
     "collapsed": false,
     "input": [
      "multiply2(1,0)"
     ],
     "language": "python",
     "metadata": {},
     "outputs": [
      {
       "metadata": {},
       "output_type": "pyout",
       "prompt_number": 9,
       "text": [
        "0"
       ]
      }
     ],
     "prompt_number": 9
    },
    {
     "cell_type": "code",
     "collapsed": false,
     "input": [
      "multiply2(1,2)"
     ],
     "language": "python",
     "metadata": {},
     "outputs": [
      {
       "metadata": {},
       "output_type": "pyout",
       "prompt_number": 10,
       "text": [
        "2"
       ]
      }
     ],
     "prompt_number": 10
    },
    {
     "cell_type": "code",
     "collapsed": false,
     "input": [
      "multiply2(11, 13)"
     ],
     "language": "python",
     "metadata": {},
     "outputs": [
      {
       "metadata": {},
       "output_type": "pyout",
       "prompt_number": 11,
       "text": [
        "143"
       ]
      }
     ],
     "prompt_number": 11
    },
    {
     "cell_type": "markdown",
     "metadata": {},
     "source": [
      "Implementa\u00e7\u00e3o Karatsuba (Multiplica\u00e7\u00e3o entre dois n\u00fameros de n d\u00edgitos)"
     ]
    },
    {
     "cell_type": "code",
     "collapsed": false,
     "input": [
      "def splitNumber(x):\n",
      "\n",
      "    (x_digits, x_numberOfDigits) = getDigits(x)\n",
      "    \n",
      "    p = 0\n",
      "    q = 0\n",
      "    i = 0\n",
      "    \n",
      "    if x_numberOfDigits %2 == 0:\n",
      "        for i in range(0, x_numberOfDigits/2):\n",
      "            q += shiftright(x_digits[i], i)\n",
      "            p += shiftright(x_digits[i + x_numberOfDigits/2], i)\n",
      "            i = i + 1\n",
      "    else:\n",
      "        for i in range(0, x_numberOfDigits//2):\n",
      "            q += shiftright(x_digits[i], i)\n",
      "            p += shiftright(x_digits[i + x_numberOfDigits//2], i)\n",
      "            i = i + 1\n",
      "        q += shiftright(x_digits[x_numberOfDigits//2], x_numberOfDigits//2)\n",
      "    \n",
      "    return (x_numberOfDigits, p, q)\n",
      "\n",
      "def splitNumber2(x):\n",
      "\n",
      "    x_digits = str(x)\n",
      "    x_numberOfDigits = len(x_digits)\n",
      "    p = int( x_digits[:x_numberOfDigits/2])\n",
      "    q = int( x_digits[x_numberOfDigits/2:])\n",
      "    return (x_numberOfDigits, p, q)\n",
      "    \n",
      "def karatsuba(x, y):\n",
      "    if x<10 and y<10:\n",
      "        return x*y\n",
      "    else:\n",
      "       (x_numberOfDigits, p ,q ) = splitNumber2(x)\n",
      "       (y_numberOfDigits, r, s) = splitNumber2(y)\n",
      "       if x_numberOfDigits%2 == 0:\n",
      "            n = x_numberOfDigits\n",
      "       else:\n",
      "            n = x_numberOfDigits + 1\n",
      "       i = karatsuba(p, r)\n",
      "       j = karatsuba(q, s)\n",
      "       k = karatsuba( (p+q), (r+s))\n",
      "       res = shiftright(i, n) + j + shiftright(k - i - j, n/2)\n",
      "        \n",
      "       return res\n",
      "            \n",
      "        "
     ],
     "language": "python",
     "metadata": {},
     "outputs": [],
     "prompt_number": 12
    },
    {
     "cell_type": "code",
     "collapsed": false,
     "input": [
      "karatsuba(1200, 1200)"
     ],
     "language": "python",
     "metadata": {},
     "outputs": [
      {
       "metadata": {},
       "output_type": "pyout",
       "prompt_number": 13,
       "text": [
        "1440000"
       ]
      }
     ],
     "prompt_number": 13
    },
    {
     "cell_type": "markdown",
     "metadata": {},
     "source": [
      "Implementa\u00e7\u00e3o Merge-Sort Iterativo"
     ]
    },
    {
     "cell_type": "code",
     "collapsed": false,
     "input": [
      "def merge(x, y):\n",
      "    if len(x) == 0:\n",
      "        return y\n",
      "    if len(y) == 0:\n",
      "        return x\n",
      "    if x[0] <= y[0]:\n",
      "        return [x[0]] + merge(x[1:], y)\n",
      "    else:\n",
      "        return [y[0]] + merge(x, y[1:])"
     ],
     "language": "python",
     "metadata": {},
     "outputs": [],
     "prompt_number": 14
    },
    {
     "cell_type": "code",
     "collapsed": false,
     "input": [
      "merge([1,4], [3,2])"
     ],
     "language": "python",
     "metadata": {},
     "outputs": [
      {
       "metadata": {},
       "output_type": "pyout",
       "prompt_number": 15,
       "text": [
        "[1, 3, 2, 4]"
       ]
      }
     ],
     "prompt_number": 15
    },
    {
     "cell_type": "code",
     "collapsed": false,
     "input": [
      "import Queue\n",
      "def mergesort_iterativo(x):\n",
      "    q = Queue.Queue()\n",
      "    for i in range(0, len(x)):\n",
      "        q.put([x[i]])\n",
      "        i = i + 1\n",
      "    while q.qsize() > 1:\n",
      "        q.put(merge(q.get(), q.get()))\n",
      "    return q.get()"
     ],
     "language": "python",
     "metadata": {},
     "outputs": [],
     "prompt_number": 16
    },
    {
     "cell_type": "code",
     "collapsed": false,
     "input": [
      "mergesort_iterativo([1, 3, 2, 4])"
     ],
     "language": "python",
     "metadata": {},
     "outputs": [
      {
       "metadata": {},
       "output_type": "pyout",
       "prompt_number": 17,
       "text": [
        "[1, 2, 3, 4]"
       ]
      }
     ],
     "prompt_number": 17
    },
    {
     "cell_type": "markdown",
     "metadata": {},
     "source": [
      "Implementa\u00e7\u00e3o Merge-Sort Recursivo"
     ]
    },
    {
     "cell_type": "code",
     "collapsed": false,
     "input": [
      "def mergesort(x):\n",
      "    if len(x) > 1:\n",
      "        return merge(mergesort(x[0:len(x)/2]), mergesort(x[len(x)/2:len(x)]))\n",
      "    else:\n",
      "        return x"
     ],
     "language": "python",
     "metadata": {},
     "outputs": [],
     "prompt_number": 18
    },
    {
     "cell_type": "code",
     "collapsed": false,
     "input": [
      "mergesort([1, 3, 2, 4])"
     ],
     "language": "python",
     "metadata": {},
     "outputs": [
      {
       "metadata": {},
       "output_type": "pyout",
       "prompt_number": 19,
       "text": [
        "[1, 2, 3, 4]"
       ]
      }
     ],
     "prompt_number": 19
    },
    {
     "cell_type": "code",
     "collapsed": false,
     "input": [
      "def exercicio14(L):\n",
      "    L_sorted = mergesort(L)\n",
      "    print L_sorted\n",
      "    L_without_duplicates = []\n",
      "    j=0\n",
      "    for i in range(0,len(L_sorted)):\n",
      "        if i == 0:\n",
      "            L_without_duplicates.insert(j, L_sorted[i])\n",
      "            i+=1\n",
      "            j+=1\n",
      "        else:\n",
      "            if L_sorted[i] > L_without_duplicates[j-1]:\n",
      "                L_without_duplicates.insert(j,L_sorted[i])\n",
      "                i+=1\n",
      "                j+=1\n",
      "            else:\n",
      "                i+=1\n",
      "    return L_without_duplicates\n",
      "        \n",
      "    "
     ],
     "language": "python",
     "metadata": {},
     "outputs": [],
     "prompt_number": 44
    },
    {
     "cell_type": "code",
     "collapsed": false,
     "input": [
      "exercicio14([1,2,3,2,4,4,7])"
     ],
     "language": "python",
     "metadata": {},
     "outputs": [
      {
       "output_type": "stream",
       "stream": "stdout",
       "text": [
        "[1, 2, 2, 3, 4, 4, 7]\n"
       ]
      },
      {
       "metadata": {},
       "output_type": "pyout",
       "prompt_number": 46,
       "text": [
        "[1, 2, 3, 4, 7]"
       ]
      }
     ],
     "prompt_number": 46
    },
    {
     "cell_type": "code",
     "collapsed": false,
     "input": [
      "def exercicio17(L):\n",
      "    n = len(L)\n",
      "    if n==1:\n",
      "        if L[0] == 0:\n",
      "            print 'true'\n",
      "    else:\n",
      "        if L[n/2] == n/2: \n",
      "            print 'true'\n",
      "        else:\n",
      "            if L[n/2] > n/2:\n",
      "                exercicio17(L[:n/2])\n",
      "            else:\n",
      "                exercicio17(L[n/2:]-n/2)"
     ],
     "language": "python",
     "metadata": {},
     "outputs": [],
     "prompt_number": 89
    },
    {
     "cell_type": "code",
     "collapsed": false,
     "input": [
      "exercicio17([1,2,3,4])"
     ],
     "language": "python",
     "metadata": {},
     "outputs": [],
     "prompt_number": 94
    },
    {
     "cell_type": "code",
     "collapsed": false,
     "input": [
      "def splitInPlace(S,v):\n",
      "    smaller = 0\n",
      "    bigger = 0\n",
      "    for i in range(0, len(S)):\n",
      "        if S[i] < v:\n",
      "            temp = S[i]\n",
      "            S[i] = S[smaller]\n",
      "            S[smaller] = temp\n",
      "            smaller +=1\n",
      "    bigger = smaller\n",
      "    smaller -= 1\n",
      "    for i in range(bigger, len(S)):\n",
      "        if S[i] == v:\n",
      "            temp = S[i]\n",
      "            S[i] = S[bigger]\n",
      "            S[bigger] = temp\n",
      "            bigger +=1\n",
      "            \n",
      "    return S, smaller, bigger"
     ],
     "language": "python",
     "metadata": {},
     "outputs": [],
     "prompt_number": 103
    },
    {
     "cell_type": "code",
     "collapsed": false,
     "input": [
      "splitInPlace([55,1,7,4,2,3,6],6)"
     ],
     "language": "python",
     "metadata": {},
     "outputs": [
      {
       "metadata": {},
       "output_type": "pyout",
       "prompt_number": 104,
       "text": [
        "([1, 4, 2, 3, 6, 55, 7], 3, 5)"
       ]
      }
     ],
     "prompt_number": 104
    },
    {
     "cell_type": "markdown",
     "metadata": {},
     "source": [
      "Exerc\u00edcio: Realizar merge de n listas ordenadas"
     ]
    },
    {
     "cell_type": "code",
     "collapsed": false,
     "input": [
      "def merge(x, y):\n",
      "    if len(x) == 0:\n",
      "        return y\n",
      "    if len(y) == 0:\n",
      "        return x\n",
      "    if x[0] <= y[0]:\n",
      "        return [x[0]] + merge(x[1:], y)\n",
      "    else:\n",
      "        return [y[0]] + merge(x, y[1:])\n",
      "    \n",
      "def mergeLists(L):\n",
      "    n = len(L)\n",
      "    if len(L) == 0:\n",
      "        return L\n",
      "    if len(L) == 1:\n",
      "        return L[0]\n",
      "    else:\n",
      "       return merge(mergeLists(L[:n/2]),mergeLists(L[n/2:]))"
     ],
     "language": "python",
     "metadata": {},
     "outputs": [],
     "prompt_number": 101
    },
    {
     "cell_type": "code",
     "collapsed": false,
     "input": [
      "mergeLists([[1,2,3],[3,4,5],[7,8,9]])"
     ],
     "language": "python",
     "metadata": {},
     "outputs": [
      {
       "metadata": {},
       "output_type": "pyout",
       "prompt_number": 83,
       "text": [
        "[1, 2, 3, 3, 4, 5, 7, 8, 9]"
       ]
      }
     ],
     "prompt_number": 83
    },
    {
     "cell_type": "code",
     "collapsed": false,
     "input": [],
     "language": "python",
     "metadata": {},
     "outputs": []
    }
   ],
   "metadata": {}
  }
 ]
}